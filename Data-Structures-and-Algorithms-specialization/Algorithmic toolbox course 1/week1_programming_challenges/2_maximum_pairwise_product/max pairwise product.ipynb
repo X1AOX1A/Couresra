{
  "cells": [
    {
      "cell_type": "code",
      "source": [
        "def max_pairwise_product(numbers):\n",
        "    #just find biggest two numbers\n",
        "    num1 = max(numbers)\n",
        "    numbers.remove(num1)\n",
        "    num2 = max(numbers)\n",
        "    return num1*num2   \n",
        "\n",
        "\n",
        "if __name__ == '__main__':\n",
        "    input_n = int(input())\n",
        "    input_numbers = [int(x) for x in input().split()]\n",
        "    print(max_pairwise_product(input_numbers))\n"
      ],
      "outputs": [
        {
          "output_type": "stream",
          "name": "stdout",
          "text": [
            "16\n"
          ]
        }
      ],
      "execution_count": 2,
      "metadata": {
        "execution": {
          "iopub.status.busy": "2020-05-03T08:41:40.525Z",
          "iopub.execute_input": "2020-05-03T08:41:40.529Z",
          "iopub.status.idle": "2020-05-03T08:41:47.595Z",
          "shell.execute_reply": "2020-05-03T08:41:47.610Z"
        }
      }
    },
    {
      "cell_type": "code",
      "source": [
        "# stress test\n",
        "def max_pairwise_product_slow(numbers):\n",
        "    n = len(numbers)\n",
        "    max_product = 0\n",
        "    for first in range(n):\n",
        "        for second in range(first + 1, n):\n",
        "            max_product = max(max_product,\n",
        "                numbers[first] * numbers[second])\n",
        "\n",
        "    return max_product\n",
        "\n",
        "from random import randint\n",
        "def stress_test(n, N, M):\n",
        "    # n : repeat times\n",
        "    # N : length of array\n",
        "    # M : max of array\n",
        "    for i in range(0, n):\n",
        "        a = [randint(2,M) for i in range(1,N+1)]\n",
        "        b = a.copy()\n",
        "        print(i)\n",
        "        result1 = max_pairwise_product(a)\n",
        "        result2 = max_pairwise_product_slow(b)\n",
        "        if result1 == result2:\n",
        "            print('OK')\n",
        "        else:\n",
        "            print('Error')\n",
        "            print(result1, result2)\n",
        "            print(a)\n",
        "            break"
      ],
      "outputs": [],
      "execution_count": 38,
      "metadata": {
        "execution": {
          "iopub.status.busy": "2020-05-03T08:50:34.550Z",
          "iopub.execute_input": "2020-05-03T08:50:34.555Z",
          "iopub.status.idle": "2020-05-03T08:50:34.559Z",
          "shell.execute_reply": "2020-05-03T08:50:34.563Z"
        }
      }
    },
    {
      "cell_type": "code",
      "source": [
        "%%time\n",
        "stress_test(1000, 2*10**2, 3*10**2)"
      ],
      "outputs": [],
      "execution_count": null,
      "metadata": {
        "collapsed": true,
        "outputExpanded": false,
        "jupyter": {
          "source_hidden": false,
          "outputs_hidden": true
        },
        "nteract": {
          "transient": {
            "deleting": false
          }
        },
        "execution": {
          "iopub.status.busy": "2020-05-03T08:51:03.608Z",
          "iopub.execute_input": "2020-05-03T08:51:03.627Z",
          "iopub.status.idle": "2020-05-03T08:51:11.493Z",
          "shell.execute_reply": "2020-05-03T08:51:11.504Z"
        }
      }
    },
    {
      "cell_type": "code",
      "source": [],
      "outputs": [],
      "execution_count": null,
      "metadata": {
        "collapsed": true,
        "outputExpanded": false,
        "jupyter": {
          "source_hidden": false,
          "outputs_hidden": false
        },
        "nteract": {
          "transient": {
            "deleting": false
          }
        }
      }
    }
  ],
  "metadata": {
    "kernelspec": {
      "display_name": "Python 3",
      "language": "python",
      "name": "python3"
    },
    "language_info": {
      "name": "python",
      "version": "3.7.3",
      "mimetype": "text/x-python",
      "codemirror_mode": {
        "name": "ipython",
        "version": 3
      },
      "pygments_lexer": "ipython3",
      "nbconvert_exporter": "python",
      "file_extension": ".py"
    },
    "nteract": {
      "version": "0.22.4"
    }
  },
  "nbformat": 4,
  "nbformat_minor": 2
}