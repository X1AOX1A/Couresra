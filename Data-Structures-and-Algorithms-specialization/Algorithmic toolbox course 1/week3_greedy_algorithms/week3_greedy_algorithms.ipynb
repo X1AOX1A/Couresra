{
 "cells": [
  {
   "cell_type": "markdown",
   "metadata": {},
   "source": [
    "# money_change"
   ]
  },
  {
   "cell_type": "markdown",
   "metadata": {},
   "source": [
    "**Problem Description**\n",
    "\n",
    "**Task.** The goal in this problem is to find the minimum number of coins needed to change the input value (an integer) into coins with denominations 1, 5, and 10.\n",
    "\n",
    "**Input Format.** The input consists of a single integer 𝑚. 3\n",
    "\n",
    "**Constraints.** 1 ≤ 𝑚 ≤ 10 .\n",
    "\n",
    "**Output Format.** Output the minimum number of coins with denominations 1, 5, 10 that changes 𝑚."
   ]
  },
  {
   "cell_type": "code",
   "execution_count": 13,
   "metadata": {
    "ExecuteTime": {
     "end_time": "2020-05-24T13:04:51.568135Z",
     "start_time": "2020-05-24T13:04:49.418387Z"
    }
   },
   "outputs": [
    {
     "name": "stdout",
     "output_type": "stream",
     "text": [
      "28\n",
      "6\n"
     ]
    }
   ],
   "source": [
    "# 思路：为了使硬币数量最少，优先使用面额较大的硬币\n",
    "def money_change(money):\n",
    "    remain = money\n",
    "    ten_num = remain // 10\n",
    "    remain -= 10*ten_num\n",
    "    five_num = remain // 5\n",
    "    remain -= 5*five_num\n",
    "    return(ten_num+five_num+remain)\n",
    "\n",
    "print(money_change(int(input())))"
   ]
  },
  {
   "cell_type": "markdown",
   "metadata": {},
   "source": [
    "# maximum_value_of_the_loot"
   ]
  },
  {
   "cell_type": "markdown",
   "metadata": {},
   "source": [
    "**Problem Introduction**\n",
    "\n",
    "A thief finds much more loot than his bag can fit. Help him to find the most valuable combination of items assuming that any fraction of a loot item can be put into his bag.\n",
    "\n",
    "**Problem Description**\n",
    "\n",
    "**Task.** The goal of this code problem is to implement an algorithm for the fractional knapsack problem.\n",
    "\n",
    "**Input Format.** The first line of the input contains the number 𝑛 of items and the capacity 𝑊 of a knapsack. The next 𝑛 lines define the values and weights of the items. The 𝑖-th line contains integers 𝑣𝑖 and 𝑤𝑖—the value and the weight of 𝑖-th item, respectively.\n",
    "\n",
    "**Constraints.** 1≤𝑛≤103,0≤𝑊 ≤2·106;0≤𝑣𝑖 ≤2·106,0<𝑤𝑖 ≤2·106 forall1≤𝑖≤𝑛.Allthe numbers are integers.\n",
    "\n",
    "**Output Format.** Output the maximal value of fractions of items that fit into the knapsack. The absolute value of the difference between the answer of your program and the optimal value should be at most 10-3 your answer, while being computed correctly, can turn out to be wrong because of rounding issues)."
   ]
  },
  {
   "cell_type": "code",
   "execution_count": 82,
   "metadata": {
    "ExecuteTime": {
     "end_time": "2020-05-24T14:22:38.665943Z",
     "start_time": "2020-05-24T14:22:38.643403Z"
    }
   },
   "outputs": [
    {
     "ename": "ValueError",
     "evalue": "not enough values to unpack (expected 2, got 0)",
     "output_type": "error",
     "traceback": [
      "\u001b[0;31m---------------------------------------------------------------------------\u001b[0m",
      "\u001b[0;31mValueError\u001b[0m                                Traceback (most recent call last)",
      "\u001b[0;32m<ipython-input-82-8e710368d7bc>\u001b[0m in \u001b[0;36m<module>\u001b[0;34m\u001b[0m\n\u001b[1;32m     39\u001b[0m \u001b[0;32mimport\u001b[0m \u001b[0msys\u001b[0m\u001b[0;34m\u001b[0m\u001b[0;34m\u001b[0m\u001b[0m\n\u001b[1;32m     40\u001b[0m \u001b[0;32mif\u001b[0m \u001b[0m__name__\u001b[0m \u001b[0;34m==\u001b[0m \u001b[0;34m\"__main__\"\u001b[0m\u001b[0;34m:\u001b[0m\u001b[0;34m\u001b[0m\u001b[0;34m\u001b[0m\u001b[0m\n\u001b[0;32m---> 41\u001b[0;31m     \u001b[0mn\u001b[0m\u001b[0;34m,\u001b[0m \u001b[0mW\u001b[0m \u001b[0;34m=\u001b[0m \u001b[0mmap\u001b[0m\u001b[0;34m(\u001b[0m\u001b[0mint\u001b[0m\u001b[0;34m,\u001b[0m \u001b[0msys\u001b[0m\u001b[0;34m.\u001b[0m\u001b[0mstdin\u001b[0m\u001b[0;34m.\u001b[0m\u001b[0mreadline\u001b[0m\u001b[0;34m(\u001b[0m\u001b[0;34m)\u001b[0m \u001b[0;34m.\u001b[0m\u001b[0msplit\u001b[0m\u001b[0;34m(\u001b[0m\u001b[0;34m)\u001b[0m\u001b[0;34m)\u001b[0m\u001b[0;34m\u001b[0m\u001b[0;34m\u001b[0m\u001b[0m\n\u001b[0m\u001b[1;32m     42\u001b[0m     \u001b[0mdic\u001b[0m \u001b[0;34m=\u001b[0m \u001b[0;34m{\u001b[0m\u001b[0;34m'value'\u001b[0m\u001b[0;34m:\u001b[0m\u001b[0;34m[\u001b[0m\u001b[0;34m]\u001b[0m\u001b[0;34m,\u001b[0m \u001b[0;34m'weight'\u001b[0m\u001b[0;34m:\u001b[0m\u001b[0;34m[\u001b[0m\u001b[0;34m]\u001b[0m\u001b[0;34m}\u001b[0m\u001b[0;34m\u001b[0m\u001b[0;34m\u001b[0m\u001b[0m\n\u001b[1;32m     43\u001b[0m     \u001b[0;32mfor\u001b[0m \u001b[0mi\u001b[0m \u001b[0;32min\u001b[0m \u001b[0mrange\u001b[0m\u001b[0;34m(\u001b[0m\u001b[0;36m0\u001b[0m\u001b[0;34m,\u001b[0m \u001b[0mn\u001b[0m\u001b[0;34m)\u001b[0m\u001b[0;34m:\u001b[0m\u001b[0;34m\u001b[0m\u001b[0;34m\u001b[0m\u001b[0m\n",
      "\u001b[0;31mValueError\u001b[0m: not enough values to unpack (expected 2, got 0)"
     ]
    }
   ],
   "source": [
    "def maximum_value_of_the_loot(n, W, dic):\n",
    "    '''\n",
    "    Idea: \n",
    "     Firstly sort the ratio of items, \n",
    "     and then take the most valued items until\n",
    "     reach the capacity of bag's weight\n",
    "    \n",
    "    Input:\n",
    "     n   -- the num of items\n",
    "     W   -- the total weight(capacity) of bag\n",
    "     dic -- dictornary contains key [value] and [weight] for n items\n",
    "           \n",
    "    Output:\n",
    "     V   -- the max value of bag\n",
    "    '''\n",
    "    # 计算 value/weight 的比率\n",
    "    dic['ratio'] = [float(dic['value'][i]) / float(dic['weight'][i])  for i in range(0,n)]\n",
    "    # 将比率按从大到小排列\n",
    "    ratio_sorted = sorted(dic['ratio'], reverse=True)\n",
    "    # 按比率的排列顺序重排 weight\n",
    "    weight_sorted = [ dic['weight'][dic['ratio'].index(ratio_sorted[i])] for i in range(0, n) ]\n",
    "    \n",
    "    i = 0 # index of item\n",
    "    V = 0 # the total value of bag\n",
    "    weight_used = [0 for i in range(0, n)] # the used weight of itme i\n",
    "    while(W>0):\n",
    "        a = min(weight_sorted[i], W) # take a weight of item i \n",
    "                                 # (no more than the remain weight of bag)\n",
    "        weight_used[i] += a          # the used weight of item i\n",
    "        weight_sorted[i] -= a    # the remain weight of item i\n",
    "        W -= a                   # the remain weight of bag\n",
    "        V = V + a*ratio_sorted[i]# the total value of bag\n",
    "        i += 1                   # to the next item\n",
    "        if weight_sorted[n-1]==0:# if last item is no left, break\n",
    "            break\n",
    "        \n",
    "    return round(V, 4)\n",
    "\n",
    "import sys\n",
    "if __name__ == \"__main__\":\n",
    "    n, W = map(int, sys.stdin.readline() .split()) \n",
    "    dic = {'value':[], 'weight':[]}\n",
    "    for i in range(0, n):\n",
    "        v, w = map(int, sys.stdin.readline() .split()) \n",
    "        dic['value'].append(v)\n",
    "        dic['weight'].append(w)\n",
    "    Value = maximum_value_of_the_loot(n, W, dic)\n",
    "    print(\"{:.4f}\".format(Value))"
   ]
  },
  {
   "cell_type": "code",
   "execution_count": 73,
   "metadata": {
    "ExecuteTime": {
     "end_time": "2020-05-24T14:07:55.572283Z",
     "start_time": "2020-05-24T14:07:55.563425Z"
    }
   },
   "outputs": [
    {
     "data": {
      "text/plain": [
       "180.0"
      ]
     },
     "execution_count": 73,
     "metadata": {},
     "output_type": "execute_result"
    }
   ],
   "source": [
    "n = 3\n",
    "W = 50\n",
    "dic = {'value':[60, 100, 120],\n",
    "       'weight':[20, 50, 30]}\n",
    "maximum_value_of_the_loot(n, W, dic)"
   ]
  },
  {
   "cell_type": "code",
   "execution_count": 74,
   "metadata": {
    "ExecuteTime": {
     "end_time": "2020-05-24T14:08:02.438419Z",
     "start_time": "2020-05-24T14:08:02.415942Z"
    }
   },
   "outputs": [
    {
     "data": {
      "text/plain": [
       "166.6667"
      ]
     },
     "execution_count": 74,
     "metadata": {},
     "output_type": "execute_result"
    }
   ],
   "source": [
    "n = 1\n",
    "W = 10\n",
    "dic = {'value':[500],\n",
    "       'weight':[30]}\n",
    "maximum_value_of_the_loot(n, W, dic)"
   ]
  },
  {
   "cell_type": "code",
   "execution_count": 83,
   "metadata": {
    "ExecuteTime": {
     "end_time": "2020-05-24T14:22:41.322533Z",
     "start_time": "2020-05-24T14:22:41.241377Z"
    }
   },
   "outputs": [
    {
     "data": {
      "text/plain": [
       "500.0"
      ]
     },
     "execution_count": 83,
     "metadata": {},
     "output_type": "execute_result"
    }
   ],
   "source": [
    "n = 1\n",
    "W = 1000\n",
    "dic = {'value':[500],\n",
    "       'weight':[30]}\n",
    "maximum_value_of_the_loot(n, W, dic)"
   ]
  },
  {
   "cell_type": "markdown",
   "metadata": {},
   "source": [
    "# car_fueling"
   ]
  },
  {
   "cell_type": "markdown",
   "metadata": {},
   "source": [
    "**Problem Introduction**\n",
    "\n",
    "You are going to travel to another city that is located 𝑑 miles away from your home city. Your can can travel at most 𝑚 miles on a full tank and you start with a full tank. Along your way, there are gas stations at distances stop1, stop2, . . . , stop𝑛 from your home city. What is the minimum number of refills needed?\n",
    "\n",
    "**Problem Description**\n",
    "\n",
    "**Input Format.** The first line contains an integer 𝑑. The second line contains an integer 𝑚. The third line specifies an integer 𝑛. Finally, the last line contains integers stop1, stop2, . . . , stop𝑛.\n",
    "\n",
    "**Input Format.** Assuming that the distance between the cities is 𝑑 miles, a car can travel at most 𝑚 miles on a full tank, and there are gas stations at distances stop1 , stop2 , . . . , stop𝑛 along the way, output the minimum number of refills needed. Assume that the car starts with a full tank. If it is not possible to reach the destination, output −1.\n",
    "5\n",
    "\n",
    "**Constraints**. 1≤𝑑≤10 .1≤𝑚≤400.1≤𝑛≤300.0<stop1 <stop2 <···<stop𝑛 <𝑑.\n"
   ]
  },
  {
   "cell_type": "code",
   "execution_count": null,
   "metadata": {
    "ExecuteTime": {
     "start_time": "2020-05-24T17:02:59.412Z"
    },
    "scrolled": true
   },
   "outputs": [],
   "source": [
    "def car_fueling(destination, fuel_max, n, gas_station):\n",
    "    '''\n",
    "    Idea:\n",
    "      The length between now and next station have three cases:\n",
    "      for i from 0 to num_station+1:\n",
    "          1. X[i+1] - X[i] <= fuel_left \n",
    "              --> fule_left -= X[i+1] - X[i]\n",
    "          2. fuel_left < X[i+1] - X[i] <= fuel_max\n",
    "              --> add fule\n",
    "              --> fuel_left = fuel_max\n",
    "          3. X[i+1] - X[i] > fuel_max\n",
    "              --> that is impossible\n",
    "    \n",
    "    Input:\n",
    "      destination -- the distance between the cities\n",
    "      fuel_max -- a car can travel an most m miles on a full tank\n",
    "      n -- the num of gas stations\n",
    "      gas_station -- the distances of n gas stations\n",
    "      \n",
    "    Output:\n",
    "      num_Refills -- the min num of refills\n",
    "    '''\n",
    "    gas_station.insert(0, 0)\n",
    "    gas_station.append(destination)\n",
    "    num_Refills = 0     # the num of Refills\n",
    "    fuel_left = fuel_max\n",
    "    for i in range(n+1):\n",
    "        print('\\n现在是第',i,'站')\n",
    "        length = gas_station[i+1] - gas_station[i]\n",
    "        print('距离下一站还有：',length)\n",
    "        print('还剩油量：', fuel_left)\n",
    "        if(length <= fuel_left):\n",
    "            print('油还够')\n",
    "            fuel_left -= length\n",
    "        elif(length <= fuel_max):\n",
    "            num_Refills += 1\n",
    "            fuel_left = fuel_max - length\n",
    "            print('油不够啦，加了第',num_Refills ,'次油')\n",
    "        else:\n",
    "            print('加满油也跑不到下一站啦')\n",
    "            return -1\n",
    "        print('\\n|\\n开了', length ,'公里\\n|')\n",
    "    return num_Refills\n",
    "\n",
    "import sys\n",
    "if __name__ == \"__main__\":\n",
    "    destination = int(input())\n",
    "    fuel_max = int(input())\n",
    "    station_num = int(input())\n",
    "    gas_station = list(map(int, sys.stdin.readline() .split()) )\n",
    "    print(car_fueling(destination, fuel_max, station_num, gas_station))"
   ]
  },
  {
   "cell_type": "code",
   "execution_count": 179,
   "metadata": {
    "ExecuteTime": {
     "end_time": "2020-05-24T16:53:14.047977Z",
     "start_time": "2020-05-24T16:53:14.036817Z"
    },
    "scrolled": true
   },
   "outputs": [
    {
     "name": "stdout",
     "output_type": "stream",
     "text": [
      "\n",
      "现在是第 0 站\n",
      "距离下一站还有： 200\n",
      "还剩油量： 400\n",
      "油还够\n",
      "\n",
      "|\n",
      "开了 200 公里\n",
      "|\n",
      "\n",
      "现在是第 1 站\n",
      "距离下一站还有： 175\n",
      "还剩油量： 200\n",
      "油还够\n",
      "\n",
      "|\n",
      "开了 175 公里\n",
      "|\n",
      "\n",
      "现在是第 2 站\n",
      "距离下一站还有： 175\n",
      "还剩油量： 25\n",
      "油不够啦，加了第 1 次油\n",
      "\n",
      "|\n",
      "开了 175 公里\n",
      "|\n",
      "\n",
      "现在是第 3 站\n",
      "距离下一站还有： 200\n",
      "还剩油量： 225\n",
      "油还够\n",
      "\n",
      "|\n",
      "开了 200 公里\n",
      "|\n",
      "\n",
      "现在是第 4 站\n",
      "距离下一站还有： 200\n",
      "还剩油量： 25\n",
      "油不够啦，加了第 2 次油\n",
      "\n",
      "|\n",
      "开了 200 公里\n",
      "|\n"
     ]
    },
    {
     "data": {
      "text/plain": [
       "2"
      ]
     },
     "execution_count": 179,
     "metadata": {},
     "output_type": "execute_result"
    }
   ],
   "source": [
    "d = 950\n",
    "m = 400\n",
    "n = 4\n",
    "X = [200, 375, 550, 750]\n",
    "car_fueling(d, m, n, X)"
   ]
  },
  {
   "cell_type": "code",
   "execution_count": 180,
   "metadata": {
    "ExecuteTime": {
     "end_time": "2020-05-24T16:55:54.224447Z",
     "start_time": "2020-05-24T16:55:54.186001Z"
    },
    "scrolled": true
   },
   "outputs": [
    {
     "name": "stdout",
     "output_type": "stream",
     "text": [
      "\n",
      "现在是第 0 站\n",
      "距离下一站还有： 1\n",
      "还剩油量： 3\n",
      "油还够\n",
      "\n",
      "|\n",
      "开了 1 公里\n",
      "|\n",
      "\n",
      "现在是第 1 站\n",
      "距离下一站还有： 1\n",
      "还剩油量： 2\n",
      "油还够\n",
      "\n",
      "|\n",
      "开了 1 公里\n",
      "|\n",
      "\n",
      "现在是第 2 站\n",
      "距离下一站还有： 3\n",
      "还剩油量： 1\n",
      "油不够啦，加了第 1 次油\n",
      "\n",
      "|\n",
      "开了 3 公里\n",
      "|\n",
      "\n",
      "现在是第 3 站\n",
      "距离下一站还有： 4\n",
      "还剩油量： 0\n",
      "加满油也跑不到下一站啦\n"
     ]
    },
    {
     "data": {
      "text/plain": [
       "-1"
      ]
     },
     "execution_count": 180,
     "metadata": {},
     "output_type": "execute_result"
    }
   ],
   "source": [
    "d = 10\n",
    "m = 3\n",
    "n = 4\n",
    "X = [1, 2, 5, 9]\n",
    "car_fueling(d, m, n, X)"
   ]
  },
  {
   "cell_type": "markdown",
   "metadata": {},
   "source": [
    "# maximum_advertisement_revenue"
   ]
  },
  {
   "cell_type": "markdown",
   "metadata": {},
   "source": [
    "**Problem Introduction**\n",
    "\n",
    "You have 𝑛 ads to place on a popular Internet page. For each ad, you know how much is the advertiser willing to pay for one click on this ad. You have set up 𝑛 slots on your page and estimated the expected number of clicks per day for each slot. Now, your goal is to distribute the ads among the slots to maximize the total revenue.\n",
    "\n",
    "**Problem Description**\n",
    "\n",
    "**Task.** Given two sequences 𝑎1,𝑎2,...,𝑎𝑛 (𝑎𝑖 is the profit per click of the 𝑖-th ad) and 𝑏1,𝑏2,...,𝑏𝑛 (𝑏𝑖 is the average number of clicks per day of the 𝑖-th slot), we need to partition them into 𝑛 pairs (𝑎𝑖,𝑏𝑗) such that the sum of their products is maximized.\n",
    "\n",
    "**Input Format.** The first line contains an integer 𝑛, the second one contains a sequence of integers 𝑎1,𝑎2,...,𝑎𝑛, the third one contains a sequence of integers 𝑏1,𝑏2,...,𝑏𝑛.\n",
    "\n",
    "**Constraints.** 1≤𝑛≤103;−105 ≤𝑎𝑖,𝑏𝑖 ≤105 for all 1≤𝑖≤𝑛.𝑛\n",
    "\n",
    "**Output Format.** Output the maximum value of ∑︀ 𝑎𝑖𝑐𝑖, where 𝑐1, 𝑐2, . . . , 𝑐𝑛 is a permutation of\n",
    " 𝑏1,𝑏2,...,𝑏𝑛."
   ]
  },
  {
   "cell_type": "code",
   "execution_count": 5,
   "metadata": {
    "ExecuteTime": {
     "end_time": "2020-05-25T01:22:48.265775Z",
     "start_time": "2020-05-25T01:22:47.084341Z"
    }
   },
   "outputs": [
    {
     "name": "stdout",
     "output_type": "stream",
     "text": [
      "1\n"
     ]
    },
    {
     "ename": "IndexError",
     "evalue": "list index out of range",
     "output_type": "error",
     "traceback": [
      "\u001b[0;31m---------------------------------------------------------------------------\u001b[0m",
      "\u001b[0;31mIndexError\u001b[0m                                Traceback (most recent call last)",
      "\u001b[0;32m<ipython-input-5-2005da73eb83>\u001b[0m in \u001b[0;36m<module>\u001b[0;34m\u001b[0m\n\u001b[1;32m      9\u001b[0m     \u001b[0mprofit_of_click\u001b[0m \u001b[0;34m=\u001b[0m \u001b[0mlist\u001b[0m\u001b[0;34m(\u001b[0m\u001b[0mmap\u001b[0m\u001b[0;34m(\u001b[0m\u001b[0mint\u001b[0m\u001b[0;34m,\u001b[0m \u001b[0msys\u001b[0m\u001b[0;34m.\u001b[0m\u001b[0mstdin\u001b[0m\u001b[0;34m.\u001b[0m\u001b[0mreadline\u001b[0m\u001b[0;34m(\u001b[0m\u001b[0;34m)\u001b[0m \u001b[0;34m.\u001b[0m\u001b[0msplit\u001b[0m\u001b[0;34m(\u001b[0m\u001b[0;34m)\u001b[0m\u001b[0;34m)\u001b[0m \u001b[0;34m)\u001b[0m\u001b[0;34m\u001b[0m\u001b[0;34m\u001b[0m\u001b[0m\n\u001b[1;32m     10\u001b[0m     \u001b[0mnumber_of_click\u001b[0m \u001b[0;34m=\u001b[0m \u001b[0mlist\u001b[0m\u001b[0;34m(\u001b[0m\u001b[0mmap\u001b[0m\u001b[0;34m(\u001b[0m\u001b[0mint\u001b[0m\u001b[0;34m,\u001b[0m \u001b[0msys\u001b[0m\u001b[0;34m.\u001b[0m\u001b[0mstdin\u001b[0m\u001b[0;34m.\u001b[0m\u001b[0mreadline\u001b[0m\u001b[0;34m(\u001b[0m\u001b[0;34m)\u001b[0m \u001b[0;34m.\u001b[0m\u001b[0msplit\u001b[0m\u001b[0;34m(\u001b[0m\u001b[0;34m)\u001b[0m\u001b[0;34m)\u001b[0m \u001b[0;34m)\u001b[0m\u001b[0;34m\u001b[0m\u001b[0;34m\u001b[0m\u001b[0m\n\u001b[0;32m---> 11\u001b[0;31m     \u001b[0mprint\u001b[0m\u001b[0;34m(\u001b[0m\u001b[0mmaximum_advertisement_revenue\u001b[0m\u001b[0;34m(\u001b[0m\u001b[0mn\u001b[0m\u001b[0;34m,\u001b[0m \u001b[0mprofit_of_click\u001b[0m\u001b[0;34m,\u001b[0m \u001b[0mnumber_of_click\u001b[0m\u001b[0;34m)\u001b[0m\u001b[0;34m)\u001b[0m\u001b[0;34m\u001b[0m\u001b[0;34m\u001b[0m\u001b[0m\n\u001b[0m",
      "\u001b[0;32m<ipython-input-5-2005da73eb83>\u001b[0m in \u001b[0;36mmaximum_advertisement_revenue\u001b[0;34m(n, profit_of_click, number_of_click)\u001b[0m\n\u001b[1;32m      2\u001b[0m     \u001b[0mprofit_sort\u001b[0m \u001b[0;34m=\u001b[0m \u001b[0msorted\u001b[0m\u001b[0;34m(\u001b[0m\u001b[0mprofit_of_click\u001b[0m\u001b[0;34m,\u001b[0m \u001b[0mreverse\u001b[0m\u001b[0;34m=\u001b[0m\u001b[0;32mTrue\u001b[0m\u001b[0;34m)\u001b[0m\u001b[0;34m\u001b[0m\u001b[0;34m\u001b[0m\u001b[0m\n\u001b[1;32m      3\u001b[0m     \u001b[0mnumber_sort\u001b[0m \u001b[0;34m=\u001b[0m \u001b[0msorted\u001b[0m\u001b[0;34m(\u001b[0m\u001b[0mnumber_of_click\u001b[0m\u001b[0;34m,\u001b[0m \u001b[0mreverse\u001b[0m\u001b[0;34m=\u001b[0m\u001b[0;32mTrue\u001b[0m\u001b[0;34m)\u001b[0m\u001b[0;34m\u001b[0m\u001b[0;34m\u001b[0m\u001b[0m\n\u001b[0;32m----> 4\u001b[0;31m     \u001b[0;32mreturn\u001b[0m \u001b[0msum\u001b[0m\u001b[0;34m(\u001b[0m\u001b[0;34m[\u001b[0m\u001b[0mprofit_sort\u001b[0m\u001b[0;34m[\u001b[0m\u001b[0mi\u001b[0m\u001b[0;34m]\u001b[0m\u001b[0;34m*\u001b[0m\u001b[0mnumber_sort\u001b[0m\u001b[0;34m[\u001b[0m\u001b[0mi\u001b[0m\u001b[0;34m]\u001b[0m \u001b[0;32mfor\u001b[0m \u001b[0mi\u001b[0m \u001b[0;32min\u001b[0m \u001b[0mrange\u001b[0m\u001b[0;34m(\u001b[0m\u001b[0mn\u001b[0m\u001b[0;34m)\u001b[0m\u001b[0;34m]\u001b[0m\u001b[0;34m)\u001b[0m\u001b[0;34m\u001b[0m\u001b[0;34m\u001b[0m\u001b[0m\n\u001b[0m\u001b[1;32m      5\u001b[0m \u001b[0;34m\u001b[0m\u001b[0m\n\u001b[1;32m      6\u001b[0m \u001b[0;32mimport\u001b[0m \u001b[0msys\u001b[0m\u001b[0;34m\u001b[0m\u001b[0;34m\u001b[0m\u001b[0m\n",
      "\u001b[0;32m<ipython-input-5-2005da73eb83>\u001b[0m in \u001b[0;36m<listcomp>\u001b[0;34m(.0)\u001b[0m\n\u001b[1;32m      2\u001b[0m     \u001b[0mprofit_sort\u001b[0m \u001b[0;34m=\u001b[0m \u001b[0msorted\u001b[0m\u001b[0;34m(\u001b[0m\u001b[0mprofit_of_click\u001b[0m\u001b[0;34m,\u001b[0m \u001b[0mreverse\u001b[0m\u001b[0;34m=\u001b[0m\u001b[0;32mTrue\u001b[0m\u001b[0;34m)\u001b[0m\u001b[0;34m\u001b[0m\u001b[0;34m\u001b[0m\u001b[0m\n\u001b[1;32m      3\u001b[0m     \u001b[0mnumber_sort\u001b[0m \u001b[0;34m=\u001b[0m \u001b[0msorted\u001b[0m\u001b[0;34m(\u001b[0m\u001b[0mnumber_of_click\u001b[0m\u001b[0;34m,\u001b[0m \u001b[0mreverse\u001b[0m\u001b[0;34m=\u001b[0m\u001b[0;32mTrue\u001b[0m\u001b[0;34m)\u001b[0m\u001b[0;34m\u001b[0m\u001b[0;34m\u001b[0m\u001b[0m\n\u001b[0;32m----> 4\u001b[0;31m     \u001b[0;32mreturn\u001b[0m \u001b[0msum\u001b[0m\u001b[0;34m(\u001b[0m\u001b[0;34m[\u001b[0m\u001b[0mprofit_sort\u001b[0m\u001b[0;34m[\u001b[0m\u001b[0mi\u001b[0m\u001b[0;34m]\u001b[0m\u001b[0;34m*\u001b[0m\u001b[0mnumber_sort\u001b[0m\u001b[0;34m[\u001b[0m\u001b[0mi\u001b[0m\u001b[0;34m]\u001b[0m \u001b[0;32mfor\u001b[0m \u001b[0mi\u001b[0m \u001b[0;32min\u001b[0m \u001b[0mrange\u001b[0m\u001b[0;34m(\u001b[0m\u001b[0mn\u001b[0m\u001b[0;34m)\u001b[0m\u001b[0;34m]\u001b[0m\u001b[0;34m)\u001b[0m\u001b[0;34m\u001b[0m\u001b[0;34m\u001b[0m\u001b[0m\n\u001b[0m\u001b[1;32m      5\u001b[0m \u001b[0;34m\u001b[0m\u001b[0m\n\u001b[1;32m      6\u001b[0m \u001b[0;32mimport\u001b[0m \u001b[0msys\u001b[0m\u001b[0;34m\u001b[0m\u001b[0;34m\u001b[0m\u001b[0m\n",
      "\u001b[0;31mIndexError\u001b[0m: list index out of range"
     ]
    }
   ],
   "source": [
    "def maximum_advertisement_revenue(n, profit_of_click, number_of_click):\n",
    "    profit_sort = sorted(profit_of_click, reverse=True)\n",
    "    number_sort = sorted(number_of_click, reverse=True)\n",
    "    return sum([profit_sort[i]*number_sort[i] for i in range(n)])\n",
    "\n",
    "import sys\n",
    "if __name__ == \"__main__\":\n",
    "    n = int(input())    \n",
    "    profit_of_click = list(map(int, sys.stdin.readline() .split()) )\n",
    "    number_of_click = list(map(int, sys.stdin.readline() .split()) )\n",
    "    print(maximum_advertisement_revenue(n, profit_of_click, number_of_click))"
   ]
  },
  {
   "cell_type": "code",
   "execution_count": 6,
   "metadata": {
    "ExecuteTime": {
     "end_time": "2020-05-25T01:22:49.544481Z",
     "start_time": "2020-05-25T01:22:49.530105Z"
    }
   },
   "outputs": [
    {
     "data": {
      "text/plain": [
       "897"
      ]
     },
     "execution_count": 6,
     "metadata": {},
     "output_type": "execute_result"
    }
   ],
   "source": [
    "n = 1\n",
    "profit_of_click = [23]\n",
    "number_of_click = [39]\n",
    "maximum_advertisement_revenue(n, profit_of_click, number_of_click)"
   ]
  },
  {
   "cell_type": "code",
   "execution_count": 3,
   "metadata": {
    "ExecuteTime": {
     "end_time": "2020-05-25T01:17:08.487918Z",
     "start_time": "2020-05-25T01:17:08.460704Z"
    }
   },
   "outputs": [
    {
     "data": {
      "text/plain": [
       "23"
      ]
     },
     "execution_count": 3,
     "metadata": {},
     "output_type": "execute_result"
    }
   ],
   "source": [
    "n = 3\n",
    "profit_of_click = [1, 3, -5]\n",
    "number_of_click = [-2, 4, 1]\n",
    "maximum_advertisement_revenue(n, profit_of_click, number_of_click)"
   ]
  },
  {
   "cell_type": "markdown",
   "metadata": {},
   "source": [
    "# collecting_signatures"
   ]
  },
  {
   "cell_type": "markdown",
   "metadata": {},
   "source": [
    "**Problem Introduction**\n",
    "\n",
    "You are responsible for collecting signatures from all tenants of a certain build- ing. For each tenant, you know a period of time when he or she is at home. You would like to collect all signatures by visiting the building as few times as possible.\n",
    "The mathematical model for this problem is the following. You are given a set of segments on a line and your goal is to mark as few points on a line as possible so that each segment contains at least one marked point.\n",
    "\n",
    "**Problem Description**\n",
    "\n",
    "**Task.** Given a set of 𝑛 segments {[𝑎0,𝑏0],[𝑎1,𝑏1],...,[𝑎𝑛−1,𝑏𝑛−1]} with integer coordinates on a line, find the minimum number 𝑚 of points such that each segment contains at least one point. That is, find a set of integers 𝑋 of the minimum size such that for any segment [𝑎𝑖,𝑏𝑖] there is a point 𝑥 ∈ 𝑋 such that𝑎𝑖 ≤𝑥≤𝑏𝑖.\n",
    "\n",
    "**Input Format.** The first line of the input contains the number 𝑛 of segments. Each of the following 𝑛 lines contains two integers 𝑎𝑖 and 𝑏𝑖 (separated by a space) defining the coordinates of endpoints of the 𝑖-th segment.\n",
    "\n",
    "**Constraints.** 1≤𝑛≤100;0≤𝑎𝑖 ≤𝑏𝑖 ≤109 forall0≤𝑖<𝑛.\n",
    "\n",
    "**Output Format.** Output the minimum number 𝑚 of points on the first line and the integer coordinates of 𝑚 points (separated by spaces) on the second line. You can output the points in any order. If there are many such sets of points, you can output any set. (It is not difficult to see that there always exist a set of points of the minimum size such that all the coordinates of the points are integers.)"
   ]
  },
  {
   "cell_type": "code",
   "execution_count": 32,
   "metadata": {
    "ExecuteTime": {
     "end_time": "2020-05-25T01:52:07.616123Z",
     "start_time": "2020-05-25T01:52:07.575364Z"
    }
   },
   "outputs": [
    {
     "data": {
      "text/plain": [
       "[[], 2, 3]"
      ]
     },
     "execution_count": 32,
     "metadata": {},
     "output_type": "execute_result"
    }
   ],
   "source": [
    "a = [1,2,3]\n",
    "a[0]=[]\n"
   ]
  },
  {
   "cell_type": "code",
   "execution_count": null,
   "metadata": {
    "ExecuteTime": {
     "start_time": "2020-05-25T03:27:21.680Z"
    }
   },
   "outputs": [],
   "source": [
    "def recursion(points, count, n, left_sorted, right_sorted):\n",
    "    count += 1\n",
    "    point = right_sorted[0]    \n",
    "    points.append(point)\n",
    "    left_sorted.pop(0)\n",
    "    right_sorted.pop(0)\n",
    "    for i in range(len(left_sorted)):\n",
    "        if(left_sorted[0] <= point):\n",
    "            left_sorted.pop(0)\n",
    "            right_sorted.pop(0)\n",
    "            if(right_sorted==[]):\n",
    "                return count, points\n",
    "        else:\n",
    "            return recursion(points, count, n, left_sorted, right_sorted)\n",
    "\n",
    "def collecting_signatures(n, left, right):\n",
    "    count = 0\n",
    "    right_sorted = sorted(right, reverse=False)\n",
    "    left_sorted = [ left[ right.index(right_sorted[i]) ] for i in range(0, n) ]\n",
    "    points = []\n",
    "    count, points = recursion(points, count, n, left_sorted, right_sorted)\n",
    "    print(count)\n",
    "    for point in points:\n",
    "        print(point, end=' ')\n",
    "    print('\\n')\n",
    "\n",
    "import sys\n",
    "if __name__ == \"__main__\":\n",
    "    n = int(input())\n",
    "    lefts = []\n",
    "    rights = []\n",
    "    for i in range(n):\n",
    "        left, right = map(int, sys.stdin.readline() .split())\n",
    "        lefts.append(left)\n",
    "        rights.append(right)\n",
    "    collecting_signatures(n, lefts, rights)"
   ]
  },
  {
   "cell_type": "code",
   "execution_count": 115,
   "metadata": {
    "ExecuteTime": {
     "end_time": "2020-05-25T03:25:37.259411Z",
     "start_time": "2020-05-25T03:25:37.252179Z"
    }
   },
   "outputs": [
    {
     "name": "stdout",
     "output_type": "stream",
     "text": [
      "1\n",
      "3 "
     ]
    }
   ],
   "source": [
    "n = 3\n",
    "left = [1, 2, 3]\n",
    "right = [3, 5, 6]\n",
    "collecting_signatures(n, left, right)"
   ]
  },
  {
   "cell_type": "code",
   "execution_count": 116,
   "metadata": {
    "ExecuteTime": {
     "end_time": "2020-05-25T03:25:37.733854Z",
     "start_time": "2020-05-25T03:25:37.705398Z"
    }
   },
   "outputs": [
    {
     "name": "stdout",
     "output_type": "stream",
     "text": [
      "2\n",
      "3 6 "
     ]
    }
   ],
   "source": [
    "n = 4\n",
    "left = [4, 1, 2, 5]\n",
    "right = [7, 3, 5, 6]\n",
    "collecting_signatures(n, left, right)"
   ]
  },
  {
   "cell_type": "markdown",
   "metadata": {},
   "source": [
    "# maximum_number_of_prizes"
   ]
  },
  {
   "cell_type": "markdown",
   "metadata": {},
   "source": [
    "**Problem Introduction**\n",
    "\n",
    "You are organizing a funny competition for children. As a prize fund you have 𝑛 candies. You would like to use these candies for top 𝑘 places in a competition with a natural restriction that a higher place gets a larger number of candies. To make as many children happy as possible, you are going to find the largest value of 𝑘 for which it is possible.\n",
    "\n",
    "**Problem Description**\n",
    "\n",
    "**Task.** The goal of this problem is to represent a given positive integer 𝑛 as a sum of as many pairwise distinct positive integers as possible. That is, to find the maximum 𝑘 such that 𝑛 can be written as 𝑎1+𝑎2+···+𝑎𝑘 where𝑎1,...,𝑎𝑘 arepositiveintegersand𝑎𝑖 ̸=𝑎𝑗 forall1≤𝑖<𝑗≤𝑘.\n",
    "\n",
    "**Input Format.** The input consists of a single integer 𝑛. 9\n",
    "\n",
    "**Constraints.** 1 ≤ 𝑛 ≤ 10 .\n",
    "\n",
    "**Output Format.** In the first line, output the maximum number 𝑘 such that 𝑛 can be represented as a sum of 𝑘 pairwise distinct positive integers. In the second line, output 𝑘 pairwise distinct positive integers that sum up to 𝑛 (if there are many such representations, output any of them)."
   ]
  },
  {
   "cell_type": "markdown",
   "metadata": {},
   "source": [
    "# maximum_salary"
   ]
  },
  {
   "cell_type": "markdown",
   "metadata": {},
   "source": [
    "**Problem Introduction**\n",
    "\n",
    "As the last question of a successful interview, your boss gives you a few pieces of paper with numbers on it and asks you to compose a largest number from these numbers. The resulting number is going to be your salary, so you are very much interested in maximizing this number. How can you do this?\n",
    "In the lectures, we considered the following algorithm for composing the largest number out of the given single-digit numbers.\n",
    "\n",
    "``` Python\n",
    "LargestNumber(Digits): \n",
    "answer ← empty string \n",
    "while Digits is not empty:\n",
    "    maxDigit ← −∞ \n",
    "    for digit in Digits:\n",
    "        if digit ≥ maxDigit: \n",
    "            maxDigit ← digit\n",
    "    append maxDigit to answer\n",
    "    remove maxDigit from Digits \n",
    "return answer\n",
    "```\n",
    "\n",
    "Unfortunately, this algorithm works only in case the input consists of single-digit numbers. For example, for an input consisting of two integers 23 and 3 (23 is not a single-digit number!) it returns 233, while the largest number is in fact 323. In other words, using the largest number from the input as the first number is not a safe move.\n",
    "\n",
    "Your goal in this problem is to tweak the above algorithm so that it works not only for single-digit numbers, but for arbitrary positive integers.\n",
    "\n",
    "**Problem Description**\n",
    "\n",
    "**Task.** Compose the largest number out of a set of integers.\n",
    "\n",
    "**Input Format.** The first line of the input contains an integer 𝑛. The second line contains integers\n",
    "𝑎1,𝑎2,...,𝑎𝑛.\n",
    "\n",
    "**Constraints.** 1≤𝑛≤100;1≤𝑎𝑖 ≤103 forall1≤𝑖≤𝑛.\n",
    "\n",
    "**Output Format.** Output the largest number that can be composed out of 𝑎1, 𝑎2, . . . , 𝑎𝑛."
   ]
  },
  {
   "cell_type": "code",
   "execution_count": null,
   "metadata": {},
   "outputs": [],
   "source": []
  }
 ],
 "metadata": {
  "kernelspec": {
   "display_name": "Python 3",
   "language": "python",
   "name": "python3"
  },
  "language_info": {
   "codemirror_mode": {
    "name": "ipython",
    "version": 3
   },
   "file_extension": ".py",
   "mimetype": "text/x-python",
   "name": "python",
   "nbconvert_exporter": "python",
   "pygments_lexer": "ipython3",
   "version": "3.7.3"
  },
  "toc": {
   "base_numbering": 1,
   "nav_menu": {},
   "number_sections": true,
   "sideBar": true,
   "skip_h1_title": false,
   "title_cell": "Table of Contents",
   "title_sidebar": "Contents",
   "toc_cell": false,
   "toc_position": {
    "height": "calc(100% - 180px)",
    "left": "10px",
    "top": "150px",
    "width": "222.60870361328125px"
   },
   "toc_section_display": true,
   "toc_window_display": true
  },
  "varInspector": {
   "cols": {
    "lenName": 16,
    "lenType": 16,
    "lenVar": 40
   },
   "kernels_config": {
    "python": {
     "delete_cmd_postfix": "",
     "delete_cmd_prefix": "del ",
     "library": "var_list.py",
     "varRefreshCmd": "print(var_dic_list())"
    },
    "r": {
     "delete_cmd_postfix": ") ",
     "delete_cmd_prefix": "rm(",
     "library": "var_list.r",
     "varRefreshCmd": "cat(var_dic_list()) "
    }
   },
   "types_to_exclude": [
    "module",
    "function",
    "builtin_function_or_method",
    "instance",
    "_Feature"
   ],
   "window_display": false
  }
 },
 "nbformat": 4,
 "nbformat_minor": 4
}
