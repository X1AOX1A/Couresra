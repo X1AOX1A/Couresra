{
 "cells": [
  {
   "cell_type": "markdown",
   "metadata": {
    "nteract": {
     "transient": {
      "deleting": false
     }
    }
   },
   "source": [
    "# 1. fibonacci_number"
   ]
  },
  {
   "cell_type": "code",
   "execution_count": 44,
   "metadata": {
    "ExecuteTime": {
     "end_time": "2020-05-13T12:08:40.393625Z",
     "start_time": "2020-05-13T12:08:33.577490Z"
    },
    "execution": {
     "iopub.execute_input": "2020-05-10T15:57:13.698Z",
     "iopub.status.busy": "2020-05-10T15:57:13.695Z",
     "iopub.status.idle": "2020-05-10T15:57:16.265Z",
     "shell.execute_reply": "2020-05-10T15:57:16.271Z"
    },
    "jupyter": {
     "outputs_hidden": false,
     "source_hidden": false
    },
    "nteract": {
     "transient": {
      "deleting": false
     }
    },
    "outputExpanded": false
   },
   "outputs": [
    {
     "name": "stdout",
     "output_type": "stream",
     "text": [
      "1\n",
      "1\n",
      "CPU times: user 3.31 ms, sys: 2.88 ms, total: 6.19 ms\n",
      "Wall time: 6.81 s\n"
     ]
    }
   ],
   "source": [
    "%%time\n",
    "# Uses python3\n",
    "def calc_fib(n):\n",
    "    if n <= 1:\n",
    "        return n\n",
    "\n",
    "    previous = 0\n",
    "    current  = 1\n",
    "\n",
    "    for _ in range(n - 1):\n",
    "        previous, current = current, previous + current\n",
    "\n",
    "    return current\n",
    "\n",
    "n = int(input())\n",
    "print(calc_fib(n))"
   ]
  },
  {
   "cell_type": "markdown",
   "metadata": {
    "nteract": {
     "transient": {
      "deleting": false
     }
    }
   },
   "source": [
    "# 2. last_digit_of_fibonacci_number"
   ]
  },
  {
   "cell_type": "code",
   "execution_count": 50,
   "metadata": {
    "ExecuteTime": {
     "end_time": "2020-05-13T12:22:43.114559Z",
     "start_time": "2020-05-13T12:22:40.711898Z"
    },
    "execution": {
     "iopub.execute_input": "2020-05-10T16:14:19.276Z",
     "iopub.status.busy": "2020-05-10T16:14:19.271Z",
     "iopub.status.idle": "2020-05-10T16:14:16.085Z",
     "shell.execute_reply": "2020-05-10T16:14:16.090Z"
    },
    "jupyter": {
     "outputs_hidden": false,
     "source_hidden": false
    },
    "nteract": {
     "transient": {
      "deleting": false
     }
    },
    "outputExpanded": false
   },
   "outputs": [
    {
     "name": "stdout",
     "output_type": "stream",
     "text": [
      "11\n",
      "9\n"
     ]
    }
   ],
   "source": [
    "# Uses python3\n",
    "def get_fibonacci_last_digit(n):\n",
    "    \n",
    "    if n <= 1:\n",
    "        return n\n",
    "\n",
    "    previous = 0\n",
    "    current  = 1\n",
    "\n",
    "    for _ in range(n - 1):\n",
    "        previous, current = current, (previous + current)%10\n",
    "\n",
    "    return current\n",
    "\n",
    "n = int(input())\n",
    "print(get_fibonacci_last_digit(n))"
   ]
  },
  {
   "cell_type": "markdown",
   "metadata": {},
   "source": [
    "# 3. greatest_common_divisor"
   ]
  },
  {
   "cell_type": "code",
   "execution_count": 5,
   "metadata": {
    "ExecuteTime": {
     "end_time": "2020-05-10T16:48:00.670128Z",
     "start_time": "2020-05-10T16:48:00.555868Z"
    },
    "code_folding": []
   },
   "outputs": [
    {
     "ename": "ValueError",
     "evalue": "not enough values to unpack (expected 2, got 0)",
     "output_type": "error",
     "traceback": [
      "\u001b[0;31m---------------------------------------------------------------------------\u001b[0m",
      "\u001b[0;31mValueError\u001b[0m                                Traceback (most recent call last)",
      "\u001b[0;32m<ipython-input-5-fa87a000d453>\u001b[0m in \u001b[0;36m<module>\u001b[0;34m\u001b[0m\n\u001b[1;32m     12\u001b[0m \u001b[0;32mif\u001b[0m \u001b[0m__name__\u001b[0m \u001b[0;34m==\u001b[0m \u001b[0;34m\"__main__\"\u001b[0m\u001b[0;34m:\u001b[0m\u001b[0;34m\u001b[0m\u001b[0;34m\u001b[0m\u001b[0m\n\u001b[1;32m     13\u001b[0m     \u001b[0minput\u001b[0m \u001b[0;34m=\u001b[0m \u001b[0msys\u001b[0m\u001b[0;34m.\u001b[0m\u001b[0mstdin\u001b[0m\u001b[0;34m.\u001b[0m\u001b[0mreadline\u001b[0m\u001b[0;34m(\u001b[0m\u001b[0;34m)\u001b[0m\u001b[0;34m\u001b[0m\u001b[0;34m\u001b[0m\u001b[0m\n\u001b[0;32m---> 14\u001b[0;31m     \u001b[0ma\u001b[0m\u001b[0;34m,\u001b[0m \u001b[0mb\u001b[0m \u001b[0;34m=\u001b[0m \u001b[0mmap\u001b[0m\u001b[0;34m(\u001b[0m\u001b[0mint\u001b[0m\u001b[0;34m,\u001b[0m \u001b[0minput\u001b[0m\u001b[0;34m.\u001b[0m\u001b[0msplit\u001b[0m\u001b[0;34m(\u001b[0m\u001b[0;34m)\u001b[0m\u001b[0;34m)\u001b[0m\u001b[0;34m\u001b[0m\u001b[0;34m\u001b[0m\u001b[0m\n\u001b[0m\u001b[1;32m     15\u001b[0m     \u001b[0mprint\u001b[0m\u001b[0;34m(\u001b[0m\u001b[0mgcd\u001b[0m\u001b[0;34m(\u001b[0m\u001b[0ma\u001b[0m\u001b[0;34m,\u001b[0m \u001b[0mb\u001b[0m\u001b[0;34m)\u001b[0m\u001b[0;34m)\u001b[0m\u001b[0;34m\u001b[0m\u001b[0;34m\u001b[0m\u001b[0m\n",
      "\u001b[0;31mValueError\u001b[0m: not enough values to unpack (expected 2, got 0)"
     ]
    }
   ],
   "source": [
    "# Uses python3\n",
    "import sys\n",
    "\n",
    "def gcd(a, b):\n",
    "    m = max(a,b)\n",
    "    n = min(a,b)\n",
    "    if m%n ==0 :\n",
    "        return n\n",
    "    \n",
    "    return gcd(n,m%n)\n",
    "\n",
    "if __name__ == \"__main__\":\n",
    "    input = sys.stdin.readline()\n",
    "    a, b = map(int, input.split())\n",
    "    print(gcd(a, b))"
   ]
  },
  {
   "cell_type": "markdown",
   "metadata": {},
   "source": [
    "# 4. least_common_multiple"
   ]
  },
  {
   "cell_type": "code",
   "execution_count": null,
   "metadata": {
    "nteract": {
     "transient": {
      "deleting": false
     }
    }
   },
   "outputs": [],
   "source": [
    "# Uses python3\n",
    "import sys\n",
    "\n",
    "def gcd(a, b):\n",
    "    m = max(a,b)\n",
    "    n = min(a,b)\n",
    "    if m%n ==0 :\n",
    "        return n\n",
    "    \n",
    "    return gcd(n,m%n)\n",
    "\n",
    "def lcm(a, b):\n",
    "    if min(a,b) == 0:\n",
    "        return 0\n",
    "    \n",
    "    return int((a*b) / gcd(a, b))\n",
    "\n",
    "if __name__ == \"__main__\":\n",
    "    input = sys.stdin.readline()\n",
    "    a, b = map(int, input.split())\n",
    "    print(lcm(a, b))"
   ]
  },
  {
   "cell_type": "markdown",
   "metadata": {},
   "source": [
    "# 5. fibonacci_number_again"
   ]
  },
  {
   "cell_type": "code",
   "execution_count": 83,
   "metadata": {
    "ExecuteTime": {
     "end_time": "2020-05-13T12:42:22.478884Z",
     "start_time": "2020-05-13T12:42:22.466131Z"
    }
   },
   "outputs": [],
   "source": [
    "import sys\n",
    "def fibonacci_mod(n, m):\n",
    "    fibonacci = [0]\n",
    "    curr, prev = 1, 0\n",
    "    if n<1:\n",
    "        return 0\n",
    "    \n",
    "    for i in range(m*m+1):\n",
    "        prev, curr = curr, (prev+curr)%m\n",
    "        if len(fibonacci) == n:\n",
    "            return prev\n",
    "        \n",
    "        if (prev, curr) == (0, 1):\n",
    "            period = i+1\n",
    "            return fibonacci[n%period]\n",
    "        fibonacci.append(prev)\n",
    "        \n",
    "\n",
    "if __name__ == \"__main__\":\n",
    "    input = sys.stdin.readline()\n",
    "    n, m = map(int, input.split())\n",
    "    print(fibonacci_mod(n, m))"
   ]
  },
  {
   "cell_type": "markdown",
   "metadata": {},
   "source": [
    "# 6. last_digit_of_the_sum_of_fibonacci_numbers"
   ]
  },
  {
   "cell_type": "code",
   "execution_count": null,
   "metadata": {},
   "outputs": [],
   "source": [
    "def last_digit_of_the_sum_of_fibonacci_numbers(n):\n",
    "    fibonacci = [0]\n",
    "    last_sum = 0\n",
    "    prev, curr = 0, 1\n",
    "    if n<1:\n",
    "        return 0\n",
    "    for i in range(n):\n",
    "        prev, curr = curr, (prev+curr)%10\n",
    "        last_sum = last_sum + prev\n",
    "        \n",
    "    return last_sum%10"
   ]
  },
  {
   "cell_type": "markdown",
   "metadata": {},
   "source": [
    "时间有点长 利用周期性来算"
   ]
  },
  {
   "cell_type": "code",
   "execution_count": 160,
   "metadata": {
    "ExecuteTime": {
     "end_time": "2020-05-13T13:34:05.849488Z",
     "start_time": "2020-05-13T13:34:05.833341Z"
    }
   },
   "outputs": [],
   "source": [
    "# 思路：由前一题已经知道 mod 10 的周期，所以可以利用周期来加速运算\n",
    "def last_digit_of_the_sum_of_fibonacci_numbers(n):\n",
    "    fibonacci = [0]\n",
    "    curr, prev = 1, 0\n",
    "    if n<1:\n",
    "        return 0\n",
    "    \n",
    "    for i in range(101):\n",
    "        prev, curr = curr, (prev+curr)%10\n",
    "        if len(fibonacci) == n+1:\n",
    "            return int(sum(fibonacci)%10)\n",
    "        \n",
    "        if (prev, curr) == (0, 1):\n",
    "            period = i+1\n",
    "            sum1 = sum(fibonacci) * (n - n%period)/period\n",
    "            sum2 = sum(fibonacci[:int(n%period +1)])\n",
    "            return int((sum1+sum2)%10)\n",
    "        fibonacci.append(prev)"
   ]
  },
  {
   "cell_type": "code",
   "execution_count": 161,
   "metadata": {
    "ExecuteTime": {
     "end_time": "2020-05-13T13:34:06.349345Z",
     "start_time": "2020-05-13T13:34:06.342509Z"
    }
   },
   "outputs": [
    {
     "data": {
      "text/plain": [
       "4"
      ]
     },
     "execution_count": 161,
     "metadata": {},
     "output_type": "execute_result"
    }
   ],
   "source": [
    "last_digit_of_the_sum_of_fibonacci_numbers(3)"
   ]
  },
  {
   "cell_type": "markdown",
   "metadata": {},
   "source": [
    "# 7. last_digit_of_the_sum_of_fibonacci_numbers_again"
   ]
  },
  {
   "cell_type": "code",
   "execution_count": 181,
   "metadata": {
    "ExecuteTime": {
     "end_time": "2020-05-13T13:48:51.112457Z",
     "start_time": "2020-05-13T13:48:51.099407Z"
    }
   },
   "outputs": [],
   "source": [
    "# 思路：由前一题已经知道 mod 10 的周期，所以可以利用周期来加速运算\n",
    "def last_digit_of_the_sum_of_fibonacci_numbers(n):\n",
    "    fibonacci = [0]\n",
    "    curr, prev = 1, 0\n",
    "    if n<1:\n",
    "        return 0\n",
    "    \n",
    "    for i in range(101):\n",
    "        prev, curr = curr, (prev+curr)%10\n",
    "        if len(fibonacci) == n+1:\n",
    "            return int(sum(fibonacci)%10)\n",
    "        \n",
    "        if (prev, curr) == (0, 1):\n",
    "            period = i+1\n",
    "            sum1 = sum(fibonacci) * (n - n%period)/period\n",
    "            sum2 = sum(fibonacci[:int(n%period +1)])\n",
    "            return int(sum1+sum2)\n",
    "        fibonacci.append(prev)\n",
    "        \n",
    "def last_digit_of_the_sum_of_fibonacci_numbers_again(n1, n2):\n",
    "    sum_n1 = last_digit_of_the_sum_of_fibonacci_numbers(n1-1)\n",
    "    sum_n2 = last_digit_of_the_sum_of_fibonacci_numbers(n2)\n",
    "    return (sum_n2-sum_n1)%10"
   ]
  },
  {
   "cell_type": "code",
   "execution_count": 182,
   "metadata": {
    "ExecuteTime": {
     "end_time": "2020-05-13T13:48:51.530832Z",
     "start_time": "2020-05-13T13:48:51.511984Z"
    },
    "scrolled": true
   },
   "outputs": [
    {
     "name": "stdout",
     "output_type": "stream",
     "text": [
      "CPU times: user 35 µs, sys: 1e+03 ns, total: 36 µs\n",
      "Wall time: 38.9 µs\n"
     ]
    },
    {
     "data": {
      "text/plain": [
       "2"
      ]
     },
     "execution_count": 182,
     "metadata": {},
     "output_type": "execute_result"
    }
   ],
   "source": [
    "%%time\n",
    "last_digit_of_the_sum_of_fibonacci_numbers_again(10, 200)"
   ]
  },
  {
   "cell_type": "markdown",
   "metadata": {},
   "source": [
    "不过上面的方法用到了两次计算，我们可以通过一次运算来加速"
   ]
  },
  {
   "cell_type": "code",
   "execution_count": 184,
   "metadata": {
    "ExecuteTime": {
     "end_time": "2020-05-13T13:48:58.764687Z",
     "start_time": "2020-05-13T13:48:58.756248Z"
    }
   },
   "outputs": [],
   "source": [
    "def last_digit_of_the_sum_of_fibonacci_numbers_again(n1, n2):\n",
    "    fibonacci = [0]\n",
    "    curr, prev = 1, 0\n",
    "    if n2<1:\n",
    "        return 0\n",
    "    \n",
    "    for i in range(101):\n",
    "        prev, curr = curr, (prev+curr)%10\n",
    "        \n",
    "        if (prev, curr) == (0, 1):\n",
    "            period = i+1\n",
    "            sum1 = sum(fibonacci) * (n2 - n2%period)/period\n",
    "            sum2 = sum(fibonacci[:int(n2%period +1)])\n",
    "            \n",
    "            n1 = n1-1\n",
    "            sum3 = sum(fibonacci) * (n1 - n1%period)/period\n",
    "            sum4 = sum(fibonacci[:int(n1%period +1)])\n",
    "            return int(sum1+sum2-sum3-sum4)%10\n",
    "        fibonacci.append(prev)"
   ]
  },
  {
   "cell_type": "code",
   "execution_count": 185,
   "metadata": {
    "ExecuteTime": {
     "end_time": "2020-05-13T13:48:59.070362Z",
     "start_time": "2020-05-13T13:48:59.051306Z"
    }
   },
   "outputs": [
    {
     "name": "stdout",
     "output_type": "stream",
     "text": [
      "CPU times: user 29 µs, sys: 1 µs, total: 30 µs\n",
      "Wall time: 31.2 µs\n"
     ]
    },
    {
     "data": {
      "text/plain": [
       "2"
      ]
     },
     "execution_count": 185,
     "metadata": {},
     "output_type": "execute_result"
    }
   ],
   "source": [
    "%%time\n",
    "last_digit_of_the_sum_of_fibonacci_numbers_again(10, 200)"
   ]
  },
  {
   "cell_type": "markdown",
   "metadata": {
    "ExecuteTime": {
     "end_time": "2020-05-13T13:50:45.517370Z",
     "start_time": "2020-05-13T13:50:45.501775Z"
    }
   },
   "source": [
    "# 8. last_digit_of_the_sum_of_squares_of_fibonacci_numbers"
   ]
  },
  {
   "cell_type": "code",
   "execution_count": 199,
   "metadata": {
    "ExecuteTime": {
     "end_time": "2020-05-13T14:15:02.781016Z",
     "start_time": "2020-05-13T14:15:02.756430Z"
    }
   },
   "outputs": [],
   "source": [
    "# 思路：由第 6 已经知道 mod 10 的周期，所以可以利用周期来加速运算\n",
    "def last_digit_of_the_sum_of_squares_of_fibonacci_numbers(n):\n",
    "    fibonacci = [0]\n",
    "    curr, prev = 1, 0\n",
    "    if n<1:\n",
    "        return 0\n",
    "    \n",
    "    for i in range(101):\n",
    "        prev, curr = curr, (prev+curr)%10\n",
    "        \n",
    "        if (prev, curr) == (0, 1):\n",
    "            period = i+1\n",
    "            fibonacci = [i**2 for i in fibonacci]\n",
    "            sum1 = sum(fibonacci) * n//period\n",
    "            sum2 = sum(fibonacci[:int(n%period +1)])\n",
    "            return int((sum1+sum2)%10)\n",
    "        fibonacci.append(prev)"
   ]
  },
  {
   "cell_type": "code",
   "execution_count": 200,
   "metadata": {
    "ExecuteTime": {
     "end_time": "2020-05-13T14:15:03.011687Z",
     "start_time": "2020-05-13T14:15:02.997253Z"
    }
   },
   "outputs": [
    {
     "data": {
      "text/plain": [
       "6"
      ]
     },
     "execution_count": 200,
     "metadata": {},
     "output_type": "execute_result"
    }
   ],
   "source": [
    "last_digit_of_the_sum_of_squares_of_fibonacci_numbers(3)"
   ]
  },
  {
   "cell_type": "code",
   "execution_count": null,
   "metadata": {},
   "outputs": [],
   "source": []
  }
 ],
 "metadata": {
  "kernel_info": {
   "name": "python37364bitbaseconda946df78023b24d8a84fe2845bd939652"
  },
  "kernelspec": {
   "display_name": "Python 3",
   "language": "python",
   "name": "python3"
  },
  "language_info": {
   "codemirror_mode": {
    "name": "ipython",
    "version": 3
   },
   "file_extension": ".py",
   "mimetype": "text/x-python",
   "name": "python",
   "nbconvert_exporter": "python",
   "pygments_lexer": "ipython3",
   "version": "3.7.3"
  },
  "nteract": {
   "version": "0.22.4"
  },
  "toc": {
   "base_numbering": 1,
   "nav_menu": {},
   "number_sections": false,
   "sideBar": true,
   "skip_h1_title": false,
   "title_cell": "Table of Contents",
   "title_sidebar": "Contents",
   "toc_cell": false,
   "toc_position": {},
   "toc_section_display": true,
   "toc_window_display": true
  },
  "varInspector": {
   "cols": {
    "lenName": 16,
    "lenType": 16,
    "lenVar": 40
   },
   "kernels_config": {
    "python": {
     "delete_cmd_postfix": "",
     "delete_cmd_prefix": "del ",
     "library": "var_list.py",
     "varRefreshCmd": "print(var_dic_list())"
    },
    "r": {
     "delete_cmd_postfix": ") ",
     "delete_cmd_prefix": "rm(",
     "library": "var_list.r",
     "varRefreshCmd": "cat(var_dic_list()) "
    }
   },
   "types_to_exclude": [
    "module",
    "function",
    "builtin_function_or_method",
    "instance",
    "_Feature"
   ],
   "window_display": false
  }
 },
 "nbformat": 4,
 "nbformat_minor": 1
}
