{
 "cells": [
  {
   "cell_type": "markdown",
   "metadata": {},
   "source": [
    "# 1. Binary Search\n",
    "\n",
    "**Problem Introduction**\n",
    "\n",
    "In this problem, you will implement the binary search algorithm that allows searching very efficiently (even huge) lists, provided that the list is sorted.\n",
    "\n",
    "**Problem Description**\n",
    "\n",
    "**Task.** The goal in this code problem is to implement the binary search algorithm.\n",
    "\n",
    "**Input Format.** The first line of the input contains an integer 𝑛 and a sequence 𝑎0 < 𝑎1 < . . . < 𝑎𝑛−1 of 𝑛 pairwise distinct positive integers in increasing order. The next line contains an integer 𝑘 and 𝑘 positive integers 𝑏0, 𝑏1, . . . , 𝑏𝑘−1.\n",
    "\n",
    "**Constraints.** 1≤𝑛,𝑘≤104;1≤𝑎𝑖 ≤109 forall0≤𝑖<𝑛;1≤𝑏𝑗 ≤109 forall0≤𝑗<𝑘; \n",
    "\n",
    "**OutputFormat.** Forall𝑖from0to𝑘−1,outputanindex0≤𝑗≤𝑛−1suchthat𝑎𝑗 =𝑏𝑖 or−1ifthere\n",
    "is no such index.\n"
   ]
  },
  {
   "cell_type": "code",
   "execution_count": 28,
   "metadata": {
    "ExecuteTime": {
     "end_time": "2020-05-31T03:47:27.929484Z",
     "start_time": "2020-05-31T03:47:27.923037Z"
    }
   },
   "outputs": [],
   "source": [
    "import math\n",
    "def binary_search(A, low, high, key):\n",
    "    if(high < low):\n",
    "        return -1\n",
    "    mid = math.floor(low+(high-low)/2)\n",
    "    if(key == A[mid]):\n",
    "        return mid\n",
    "    elif(key < A[mid]):\n",
    "        return binary_search(A, low, mid-1, key)\n",
    "    else:\n",
    "        return binary_search(A, mid+1, high, key)"
   ]
  },
  {
   "cell_type": "code",
   "execution_count": 32,
   "metadata": {
    "ExecuteTime": {
     "end_time": "2020-05-31T03:53:33.611369Z",
     "start_time": "2020-05-31T03:53:33.492495Z"
    }
   },
   "outputs": [
    {
     "name": "stdout",
     "output_type": "stream",
     "text": [
      "2 0 -1 0 -1 "
     ]
    }
   ],
   "source": [
    "A = [1, 5, 8, 12, 13]\n",
    "B = [8, 1, 23, 1, 11]\n",
    "for b in B:\n",
    "    print(binary_search(A, 0, len(A)-1,  b), end=' ')"
   ]
  },
  {
   "cell_type": "markdown",
   "metadata": {},
   "source": [
    "# 2. Majority Element\n",
    "\n",
    "**Problem Introduction**\n",
    "\n",
    "Majority rule is a decision rule that selects the alternative which has a majority, that is, more than half the votes.\n",
    "Given a sequence of elements 𝑎1, 𝑎2, . . . , 𝑎𝑛, you would like to check whether it contains an element that appears more than 𝑛/2 times. A naive way to do this is the following.\n",
    "\n",
    "```Python\n",
    "MajorityElement(𝑎1, 𝑎2, . . . , 𝑎𝑛): \n",
    "    for 𝑖 from 1 to 𝑛:\n",
    "        currentElement ← 𝑎𝑖 \n",
    "        count ← 0\n",
    "        for 𝑗 from 1 to 𝑛:\n",
    "            if 𝑎𝑗 = currentElement: \n",
    "                count ← count + 1\n",
    "        if count > 𝑛/2: \n",
    "            return 𝑎𝑖\n",
    "    return “no majority element”\n",
    "```\n",
    "\n",
    "The running time of this algorithm is quadratic. Your goal is to use the divide-and-conquer technique to design an 𝑂(𝑛 log 𝑛) algorithm.\n",
    "\n",
    "**Problem Description**\n",
    "\n",
    "**Task.** The goal in this code problem is to check whether an input sequence contains a majority element. Input Format. The first line contains an integer 𝑛, the next one contains a sequence of 𝑛 non-negative\n",
    "integers 𝑎0, 𝑎1, . . . , 𝑎𝑛−1.\n",
    "\n",
    "**Constraints.** 1≤𝑛≤105;0≤𝑎𝑖 ≤109 forall0≤𝑖<𝑛.\n",
    "\n",
    "**Output Format.** Output 1 if the sequence contains an element that appears strictly more than 𝑛/2 times, and 0 otherwise.\n",
    "\n",
    "**What To Do**\n",
    "\n",
    "As you might have already guessed, this problem can be solved by the divide-and-conquer algorithm in time 𝑂(𝑛log𝑛). Indeed, if a sequence of length 𝑛 contains a majority element, then the same element is also a majority element for one of its halves. Thus, to solve this problem you first split a given sequence into halves and make two recursive calls. Do you see how to combine the results of two recursive calls?\n",
    "It is interesting to note that this problem can also be solved in 𝑂(𝑛) time by a more advanced (non-divide and conquer) algorithm that just scans the given sequence twice.\n",
    "Need Help?"
   ]
  },
  {
   "cell_type": "code",
   "execution_count": 56,
   "metadata": {
    "ExecuteTime": {
     "end_time": "2020-05-31T06:23:11.062367Z",
     "start_time": "2020-05-31T06:23:11.048427Z"
    }
   },
   "outputs": [
    {
     "name": "stdout",
     "output_type": "stream",
     "text": [
      "[2, 3] [2, 3, 4] [1]\n",
      "[3] [2, 3, 4] [1, 2]\n",
      "[3] [3, 4] [1, 2, 2]\n",
      "[] [3, 4] [1, 2, 2, 3]\n"
     ]
    },
    {
     "data": {
      "text/plain": [
       "[1, 2, 2, 3, 3, 4]"
      ]
     },
     "execution_count": 56,
     "metadata": {},
     "output_type": "execute_result"
    }
   ],
   "source": [
    "def merge(B, C):\n",
    "    D = []\n",
    "    while((B!=[]) & (C!=[])):\n",
    "        b = B[0]\n",
    "        c = C[0]\n",
    "        D.append(b) if b<=c else D.append(c)\n",
    "        B.pop(0)  if b<=c else C.pop(0)\n",
    "        print(B, C, D)\n",
    "    D = D+B+C\n",
    "    return D\n",
    "merge([1,2,3], [2,3,4])"
   ]
  },
  {
   "cell_type": "code",
   "execution_count": 61,
   "metadata": {
    "ExecuteTime": {
     "end_time": "2020-05-31T06:33:13.361137Z",
     "start_time": "2020-05-31T06:33:13.352291Z"
    }
   },
   "outputs": [
    {
     "data": {
      "text/plain": [
       "[1, 2, 3, 5, 6, 7, 7, 13]"
      ]
     },
     "execution_count": 61,
     "metadata": {},
     "output_type": "execute_result"
    }
   ],
   "source": [
    "merge([2, 3, 5, 7], [1, 6, 7, 13])"
   ]
  },
  {
   "cell_type": "code",
   "execution_count": 86,
   "metadata": {
    "ExecuteTime": {
     "end_time": "2020-05-31T06:41:44.967089Z",
     "start_time": "2020-05-31T06:41:44.960262Z"
    }
   },
   "outputs": [
    {
     "name": "stdout",
     "output_type": "stream",
     "text": [
      "[]\n"
     ]
    }
   ],
   "source": [
    "A = [1]\n",
    "A.pop(0)\n",
    "print(A)"
   ]
  },
  {
   "cell_type": "code",
   "execution_count": 83,
   "metadata": {
    "ExecuteTime": {
     "end_time": "2020-05-31T06:40:48.456173Z",
     "start_time": "2020-05-31T06:40:48.439398Z"
    }
   },
   "outputs": [
    {
     "ename": "TypeError",
     "evalue": "can only concatenate list (not \"NoneType\") to list",
     "output_type": "error",
     "traceback": [
      "\u001b[0;31m---------------------------------------------------------------------------\u001b[0m",
      "\u001b[0;31mTypeError\u001b[0m                                 Traceback (most recent call last)",
      "\u001b[0;32m<ipython-input-83-5ec65d39ce59>\u001b[0m in \u001b[0;36m<module>\u001b[0;34m\u001b[0m\n\u001b[0;32m----> 1\u001b[0;31m \u001b[0mmerge\u001b[0m\u001b[0;34m(\u001b[0m\u001b[0;32mNone\u001b[0m\u001b[0;34m,\u001b[0m\u001b[0;32mNone\u001b[0m\u001b[0;34m)\u001b[0m\u001b[0;34m\u001b[0m\u001b[0;34m\u001b[0m\u001b[0m\n\u001b[0m",
      "\u001b[0;32m<ipython-input-81-2e81ddcfae23>\u001b[0m in \u001b[0;36mmerge\u001b[0;34m(B, C)\u001b[0m\n\u001b[1;32m      8\u001b[0m         \u001b[0mD\u001b[0m\u001b[0;34m.\u001b[0m\u001b[0mappend\u001b[0m\u001b[0;34m(\u001b[0m\u001b[0mb\u001b[0m\u001b[0;34m)\u001b[0m \u001b[0;32mif\u001b[0m \u001b[0mb\u001b[0m\u001b[0;34m<=\u001b[0m\u001b[0mc\u001b[0m \u001b[0;32melse\u001b[0m \u001b[0mD\u001b[0m\u001b[0;34m.\u001b[0m\u001b[0mappend\u001b[0m\u001b[0;34m(\u001b[0m\u001b[0mc\u001b[0m\u001b[0;34m)\u001b[0m\u001b[0;34m\u001b[0m\u001b[0;34m\u001b[0m\u001b[0m\n\u001b[1;32m      9\u001b[0m         \u001b[0mB\u001b[0m\u001b[0;34m.\u001b[0m\u001b[0mpop\u001b[0m\u001b[0;34m(\u001b[0m\u001b[0;36m0\u001b[0m\u001b[0;34m)\u001b[0m  \u001b[0;32mif\u001b[0m \u001b[0mb\u001b[0m\u001b[0;34m<=\u001b[0m\u001b[0mc\u001b[0m \u001b[0;32melse\u001b[0m \u001b[0mC\u001b[0m\u001b[0;34m.\u001b[0m\u001b[0mpop\u001b[0m\u001b[0;34m(\u001b[0m\u001b[0;36m0\u001b[0m\u001b[0;34m)\u001b[0m\u001b[0;34m\u001b[0m\u001b[0;34m\u001b[0m\u001b[0m\n\u001b[0;32m---> 10\u001b[0;31m     \u001b[0mD\u001b[0m \u001b[0;34m=\u001b[0m \u001b[0mD\u001b[0m\u001b[0;34m+\u001b[0m\u001b[0mB\u001b[0m\u001b[0;34m+\u001b[0m\u001b[0mC\u001b[0m\u001b[0;34m\u001b[0m\u001b[0;34m\u001b[0m\u001b[0m\n\u001b[0m\u001b[1;32m     11\u001b[0m     \u001b[0;32mreturn\u001b[0m \u001b[0mD\u001b[0m\u001b[0;34m\u001b[0m\u001b[0;34m\u001b[0m\u001b[0m\n\u001b[1;32m     12\u001b[0m \u001b[0;34m\u001b[0m\u001b[0m\n",
      "\u001b[0;31mTypeError\u001b[0m: can only concatenate list (not \"NoneType\") to list"
     ]
    }
   ],
   "source": [
    "merge(None,None)"
   ]
  },
  {
   "cell_type": "code",
   "execution_count": 91,
   "metadata": {
    "ExecuteTime": {
     "end_time": "2020-05-31T06:42:39.691390Z",
     "start_time": "2020-05-31T06:42:39.666100Z"
    }
   },
   "outputs": [],
   "source": [
    "import math\n",
    "def merge(B, C):\n",
    "    D = []\n",
    "    while((B!=[]) & (C!=[])):\n",
    "        print(B, C)\n",
    "        b = B[0]\n",
    "        c = C[0]\n",
    "        D.append(b) if b<=c else D.append(c)\n",
    "        B.pop(0)  if b<=c else C.pop(0)\n",
    "    D = D+B+C\n",
    "    return D\n",
    "\n",
    "def merge_sort(A):\n",
    "    if(len(A)==1):\n",
    "        return A\n",
    "    m  = math.floor(len(A)/2)\n",
    "    B = merge_sort(A[:m])\n",
    "    C = merge_sort(A[m:])\n",
    "    A_sort = merge(B, C)"
   ]
  },
  {
   "cell_type": "code",
   "execution_count": 92,
   "metadata": {
    "ExecuteTime": {
     "end_time": "2020-05-31T06:42:39.963460Z",
     "start_time": "2020-05-31T06:42:39.933945Z"
    }
   },
   "outputs": [
    {
     "name": "stdout",
     "output_type": "stream",
     "text": [
      "[3] [9]\n",
      "[2] None\n"
     ]
    },
    {
     "ename": "TypeError",
     "evalue": "'NoneType' object is not subscriptable",
     "output_type": "error",
     "traceback": [
      "\u001b[0;31m---------------------------------------------------------------------------\u001b[0m",
      "\u001b[0;31mTypeError\u001b[0m                                 Traceback (most recent call last)",
      "\u001b[0;32m<ipython-input-92-3dd5e4454285>\u001b[0m in \u001b[0;36m<module>\u001b[0;34m\u001b[0m\n\u001b[1;32m      1\u001b[0m \u001b[0mA\u001b[0m \u001b[0;34m=\u001b[0m \u001b[0;34m[\u001b[0m\u001b[0;36m2\u001b[0m\u001b[0;34m,\u001b[0m \u001b[0;36m3\u001b[0m \u001b[0;34m,\u001b[0m \u001b[0;36m9\u001b[0m\u001b[0;34m,\u001b[0m \u001b[0;36m2\u001b[0m\u001b[0;34m,\u001b[0m \u001b[0;36m2\u001b[0m\u001b[0;34m,\u001b[0m\u001b[0;36m1\u001b[0m\u001b[0;34m]\u001b[0m\u001b[0;34m\u001b[0m\u001b[0;34m\u001b[0m\u001b[0m\n\u001b[0;32m----> 2\u001b[0;31m \u001b[0mmerge_sort\u001b[0m\u001b[0;34m(\u001b[0m\u001b[0mA\u001b[0m\u001b[0;34m)\u001b[0m\u001b[0;34m\u001b[0m\u001b[0;34m\u001b[0m\u001b[0m\n\u001b[0m",
      "\u001b[0;32m<ipython-input-91-db8699342b9c>\u001b[0m in \u001b[0;36mmerge_sort\u001b[0;34m(A)\u001b[0m\n\u001b[1;32m     15\u001b[0m         \u001b[0;32mreturn\u001b[0m \u001b[0mA\u001b[0m\u001b[0;34m\u001b[0m\u001b[0;34m\u001b[0m\u001b[0m\n\u001b[1;32m     16\u001b[0m     \u001b[0mm\u001b[0m  \u001b[0;34m=\u001b[0m \u001b[0mmath\u001b[0m\u001b[0;34m.\u001b[0m\u001b[0mfloor\u001b[0m\u001b[0;34m(\u001b[0m\u001b[0mlen\u001b[0m\u001b[0;34m(\u001b[0m\u001b[0mA\u001b[0m\u001b[0;34m)\u001b[0m\u001b[0;34m/\u001b[0m\u001b[0;36m2\u001b[0m\u001b[0;34m)\u001b[0m\u001b[0;34m\u001b[0m\u001b[0;34m\u001b[0m\u001b[0m\n\u001b[0;32m---> 17\u001b[0;31m     \u001b[0mB\u001b[0m \u001b[0;34m=\u001b[0m \u001b[0mmerge_sort\u001b[0m\u001b[0;34m(\u001b[0m\u001b[0mA\u001b[0m\u001b[0;34m[\u001b[0m\u001b[0;34m:\u001b[0m\u001b[0mm\u001b[0m\u001b[0;34m]\u001b[0m\u001b[0;34m)\u001b[0m\u001b[0;34m\u001b[0m\u001b[0;34m\u001b[0m\u001b[0m\n\u001b[0m\u001b[1;32m     18\u001b[0m     \u001b[0mC\u001b[0m \u001b[0;34m=\u001b[0m \u001b[0mmerge_sort\u001b[0m\u001b[0;34m(\u001b[0m\u001b[0mA\u001b[0m\u001b[0;34m[\u001b[0m\u001b[0mm\u001b[0m\u001b[0;34m:\u001b[0m\u001b[0;34m]\u001b[0m\u001b[0;34m)\u001b[0m\u001b[0;34m\u001b[0m\u001b[0;34m\u001b[0m\u001b[0m\n\u001b[1;32m     19\u001b[0m     \u001b[0mA_sort\u001b[0m \u001b[0;34m=\u001b[0m \u001b[0mmerge\u001b[0m\u001b[0;34m(\u001b[0m\u001b[0mB\u001b[0m\u001b[0;34m,\u001b[0m \u001b[0mC\u001b[0m\u001b[0;34m)\u001b[0m\u001b[0;34m\u001b[0m\u001b[0;34m\u001b[0m\u001b[0m\n",
      "\u001b[0;32m<ipython-input-91-db8699342b9c>\u001b[0m in \u001b[0;36mmerge_sort\u001b[0;34m(A)\u001b[0m\n\u001b[1;32m     17\u001b[0m     \u001b[0mB\u001b[0m \u001b[0;34m=\u001b[0m \u001b[0mmerge_sort\u001b[0m\u001b[0;34m(\u001b[0m\u001b[0mA\u001b[0m\u001b[0;34m[\u001b[0m\u001b[0;34m:\u001b[0m\u001b[0mm\u001b[0m\u001b[0;34m]\u001b[0m\u001b[0;34m)\u001b[0m\u001b[0;34m\u001b[0m\u001b[0;34m\u001b[0m\u001b[0m\n\u001b[1;32m     18\u001b[0m     \u001b[0mC\u001b[0m \u001b[0;34m=\u001b[0m \u001b[0mmerge_sort\u001b[0m\u001b[0;34m(\u001b[0m\u001b[0mA\u001b[0m\u001b[0;34m[\u001b[0m\u001b[0mm\u001b[0m\u001b[0;34m:\u001b[0m\u001b[0;34m]\u001b[0m\u001b[0;34m)\u001b[0m\u001b[0;34m\u001b[0m\u001b[0;34m\u001b[0m\u001b[0m\n\u001b[0;32m---> 19\u001b[0;31m     \u001b[0mA_sort\u001b[0m \u001b[0;34m=\u001b[0m \u001b[0mmerge\u001b[0m\u001b[0;34m(\u001b[0m\u001b[0mB\u001b[0m\u001b[0;34m,\u001b[0m \u001b[0mC\u001b[0m\u001b[0;34m)\u001b[0m\u001b[0;34m\u001b[0m\u001b[0;34m\u001b[0m\u001b[0m\n\u001b[0m",
      "\u001b[0;32m<ipython-input-91-db8699342b9c>\u001b[0m in \u001b[0;36mmerge\u001b[0;34m(B, C)\u001b[0m\n\u001b[1;32m      5\u001b[0m         \u001b[0mprint\u001b[0m\u001b[0;34m(\u001b[0m\u001b[0mB\u001b[0m\u001b[0;34m,\u001b[0m \u001b[0mC\u001b[0m\u001b[0;34m)\u001b[0m\u001b[0;34m\u001b[0m\u001b[0;34m\u001b[0m\u001b[0m\n\u001b[1;32m      6\u001b[0m         \u001b[0mb\u001b[0m \u001b[0;34m=\u001b[0m \u001b[0mB\u001b[0m\u001b[0;34m[\u001b[0m\u001b[0;36m0\u001b[0m\u001b[0;34m]\u001b[0m\u001b[0;34m\u001b[0m\u001b[0;34m\u001b[0m\u001b[0m\n\u001b[0;32m----> 7\u001b[0;31m         \u001b[0mc\u001b[0m \u001b[0;34m=\u001b[0m \u001b[0mC\u001b[0m\u001b[0;34m[\u001b[0m\u001b[0;36m0\u001b[0m\u001b[0;34m]\u001b[0m\u001b[0;34m\u001b[0m\u001b[0;34m\u001b[0m\u001b[0m\n\u001b[0m\u001b[1;32m      8\u001b[0m         \u001b[0mD\u001b[0m\u001b[0;34m.\u001b[0m\u001b[0mappend\u001b[0m\u001b[0;34m(\u001b[0m\u001b[0mb\u001b[0m\u001b[0;34m)\u001b[0m \u001b[0;32mif\u001b[0m \u001b[0mb\u001b[0m\u001b[0;34m<=\u001b[0m\u001b[0mc\u001b[0m \u001b[0;32melse\u001b[0m \u001b[0mD\u001b[0m\u001b[0;34m.\u001b[0m\u001b[0mappend\u001b[0m\u001b[0;34m(\u001b[0m\u001b[0mc\u001b[0m\u001b[0;34m)\u001b[0m\u001b[0;34m\u001b[0m\u001b[0;34m\u001b[0m\u001b[0m\n\u001b[1;32m      9\u001b[0m         \u001b[0mB\u001b[0m\u001b[0;34m.\u001b[0m\u001b[0mpop\u001b[0m\u001b[0;34m(\u001b[0m\u001b[0;36m0\u001b[0m\u001b[0;34m)\u001b[0m  \u001b[0;32mif\u001b[0m \u001b[0mb\u001b[0m\u001b[0;34m<=\u001b[0m\u001b[0mc\u001b[0m \u001b[0;32melse\u001b[0m \u001b[0mC\u001b[0m\u001b[0;34m.\u001b[0m\u001b[0mpop\u001b[0m\u001b[0;34m(\u001b[0m\u001b[0;36m0\u001b[0m\u001b[0;34m)\u001b[0m\u001b[0;34m\u001b[0m\u001b[0;34m\u001b[0m\u001b[0m\n",
      "\u001b[0;31mTypeError\u001b[0m: 'NoneType' object is not subscriptable"
     ]
    }
   ],
   "source": [
    "A = [2, 3 , 9, 2, 2,1]\n",
    "merge_sort(A)"
   ]
  },
  {
   "cell_type": "code",
   "execution_count": 107,
   "metadata": {
    "ExecuteTime": {
     "end_time": "2020-05-31T06:58:45.780198Z",
     "start_time": "2020-05-31T06:58:45.773736Z"
    }
   },
   "outputs": [],
   "source": [
    "def majority_element(A):\n",
    "    n = len(A)\n",
    "    A_count = {}\n",
    "    for value in A:\n",
    "        if str(value) in A_count.keys():\n",
    "            A_count[str(value)] += 1\n",
    "            if(A_count[str(value)]>=n/2):\n",
    "                return value\n",
    "        else:\n",
    "            A_count[str(value)] = 1\n",
    "    return 0"
   ]
  },
  {
   "cell_type": "code",
   "execution_count": 108,
   "metadata": {
    "ExecuteTime": {
     "end_time": "2020-05-31T06:58:46.051290Z",
     "start_time": "2020-05-31T06:58:46.045575Z"
    }
   },
   "outputs": [
    {
     "data": {
      "text/plain": [
       "2"
      ]
     },
     "execution_count": 108,
     "metadata": {},
     "output_type": "execute_result"
    }
   ],
   "source": [
    "A = [2, 3 , 9, 2, 2,1]\n",
    "majority_element(A)"
   ]
  },
  {
   "cell_type": "markdown",
   "metadata": {},
   "source": [
    "# 3. Imporving Quick Sort\n",
    "\n",
    "**Problem Introduction**\n",
    "\n",
    "The goal in this problem is to redesign a given implementation of the random- ized quick sort algorithm so that it works fast even on sequences containing many equal elements.\n",
    "\n",
    "**Problem Description**\n",
    "\n",
    "**Task.** To force the given implementation of the quick sort algorithm to efficiently process sequences with few unique elements, your goal is replace a 2-way partition with a 3-way partition. That is, your new partition procedure should partition the array into three parts: < 𝑥 part, = 𝑥 part, and > 𝑥 part.\n",
    "\n",
    "**Input Format.** The first line of the input contains an integer 𝑛. The next line contains a sequence of 𝑛 integers 𝑎0, 𝑎1, . . . , 𝑎𝑛−1.\n",
    "\n",
    "**Constraints.** 1≤𝑛≤105;1≤𝑎𝑖 ≤109 forall0≤𝑖<𝑛.\n",
    "\n",
    "**Output Format.** Output this sequence sorted in non-decreasing order.\n",
    "\n",
    "**Starter Files**\n",
    "\n",
    "In the starter files, you are given an implementation of the randomized quick sort algorithm using a 2-way partition procedure. This procedure partitions the given array into two parts with respect to a pivot 𝑥: ≤ 𝑥 part and > 𝑥 part. As discussed in the video lectures, such an implementation has Θ(𝑛2) running time on sequences containing a single unique element. Indeed, the partition procedure in this case splits the array into two parts, one of which is empty and the other one contains 𝑛 − 1 elements. It spends 𝑐𝑛 time on this. The overall running time is then\n",
    "```Python\n",
    "𝑐𝑛 + 𝑐(𝑛 − 1) + 𝑐(𝑛 − 2) + . . . = Θ(𝑛2) .\n",
    "```\n",
    "\n",
    "**What To Do**\n",
    "\n",
    "Implement a 3-way partition procedure and then replace a call to the 2-way partition procedure by a call to the 3-way partition procedure.\n"
   ]
  },
  {
   "cell_type": "code",
   "execution_count": null,
   "metadata": {},
   "outputs": [],
   "source": [
    "# Uses python3\n",
    "import sys\n",
    "import random\n",
    "\n",
    "def partition3(a, l, r):\n",
    "    pivot_value = a[l]\n",
    "    p_l = i = l\n",
    "    p_e = r\n",
    "    while i <= p_e:\n",
    "        if a[i] < pivot_value:\n",
    "            a[i], a[p_l] = a[p_l], a[i]\n",
    "            p_l += 1\n",
    "            i += 1\n",
    "        elif a[i] == pivot_value:\n",
    "            i += 1\n",
    "        else:\n",
    "            a[i], a[p_e] = a[p_e], a[i]\n",
    "            p_e -= 1\n",
    "        pindices = [p_l, p_e]\n",
    "    return pindices\n",
    "\n",
    "def partition2(a, l, r):\n",
    "    x = a[l]\n",
    "    j = l\n",
    "    for i in range(l + 1, r + 1):\n",
    "        if a[i] <= x:\n",
    "            j += 1\n",
    "            a[i], a[j] = a[j], a[i]\n",
    "    a[l], a[j] = a[j], a[l]\n",
    "    return j\n",
    "\n",
    "\n",
    "def randomized_quick_sort(a, l, r):\n",
    "    if l >= r:\n",
    "        return\n",
    "    k = random.randint(l, r)\n",
    "    a[l], a[k] = a[k], a[l]\n",
    "    #use partition3\n",
    "    m = partition3(a, l, r)\n",
    "#     m = partition2(a, l, r)\n",
    "    randomized_quick_sort(a, l, m[0] - 1)\n",
    "    randomized_quick_sort(a, m[1] + 1, r)\n",
    "\n",
    "\n",
    "if __name__ == '__main__':\n",
    "    n = int(input())\n",
    "    a = list(map(int, sys.stdin.readline().split()))\n",
    "    randomized_quick_sort(a, 0, n - 1)\n",
    "    for x in a:\n",
    "        print(x, end=' ')\n"
   ]
  },
  {
   "cell_type": "markdown",
   "metadata": {},
   "source": [
    "# 4. Number of Inversions\n",
    "\n",
    "**Problem Introduction**\n",
    "\n",
    "An inversion of a sequence 𝑎0,𝑎1,...,𝑎𝑛−1 is a pair of indices 0 ≤ 𝑖 < 𝑗 < 𝑛 such that 𝑎𝑖 > 𝑎𝑗. The number of inversions of a sequence in some sense measures how close the sequence is to being sorted. For example, a sorted (in non-descending order) sequence contains no inversions at all, while in a sequence sorted in de- scending order any two elements constitute an inversion (for a total of 𝑛(𝑛 − 1)/2 inversions).\n",
    "\n",
    "**Problem Description**\n",
    "\n",
    "**Task.** The goal in this problem is to count the number of inversions of a given sequence.\n",
    "\n",
    "**Input Format.** The first line contains an integer 𝑛, the next one contains a sequence of integers\n",
    "𝑎0,𝑎1,...,𝑎𝑛−1.\n",
    "\n",
    "**Constraints.** 1≤𝑛≤105,1≤𝑎𝑖 ≤109 forall0≤𝑖<𝑛.\n",
    "\n",
    "**Output Format.** Output the number of inversions in the sequence.\n",
    "\n",
    "**What To Do**\n",
    "\n",
    "This problem can be solved by modifying the merge sort algorithm. For this, we change both the Merge and MergeSort procedures as follows:\n",
    "\n",
    "- Merge(𝐵, 𝐶) returns the resulting sorted array and the number of pairs (𝑏, 𝑐) such that 𝑏 ∈ 𝐵, 𝑐 ∈ 𝐶, and 𝑏 > 𝑐;\n",
    "\n",
    "- MergeSort(𝐴) returns a sorted array 𝐴 and the number of inversions in 𝐴. Need Help?"
   ]
  },
  {
   "cell_type": "markdown",
   "metadata": {},
   "source": [
    "# 5. Organizing a Lottery\n",
    "\n",
    "**Problem Introduction**\n",
    "\n",
    "You are organizing an online lottery. To participate, a person bets on a single integer. You then draw several ranges of consecutive integers at random. A participant’s payoff then is proportional to the number of ranges that contain the participant’s number minus the number of ranges that does not contain it. You need an efficient algorithm for computing the payoffs for all participants. A naive way to do this is to simply scan, for all participants, the list of all ranges. However, you lottery is very popular: you have thousands of participants and thousands of ranges. For this reason, you cannot afford a slow naive algorithm.\n",
    "\n",
    "**Problem Description**\n",
    "\n",
    "**Task.** You are given a set of points on a line and a set of segments on a line. The goal is to compute, for each point, the number of segments that contain this point.\n",
    "\n",
    "**Input Format.** The first line contains two non-negative integers 𝑠 and 𝑝 defining the number of segments and the number of points on a line, respectively. The next 𝑠 lines contain two integers 𝑎𝑖,𝑏𝑖 defining the 𝑖-th segment [𝑎𝑖, 𝑏𝑖]. The next line contains 𝑝 integers defining points 𝑥1, 𝑥2, . . . , 𝑥𝑝.\n",
    "\n",
    "**Constraints.** 1≤𝑠,𝑝≤50000;−108 ≤𝑎𝑖 ≤𝑏𝑖 ≤108 forall0≤𝑖<𝑠;−108 ≤𝑥𝑗 ≤108 forall0≤𝑗<𝑝. \n",
    "\n",
    "**Output Format.** Output 𝑝 non-negative integers 𝑘0, 𝑘1, . . . , 𝑘𝑝−1 where 𝑘𝑖 is the number of segments which\n",
    " contain 𝑥𝑖. More formally,\n",
    "\n",
    "**Solutio**\n",
    "\n",
    "A detailed solution (with Python code) for this challenge is covered in the companion MOOCBook. We strongly encourage you to do your best to solve the challenge yourself before looking into the book! There are at least three good reasons for this.\n",
    "\n",
    "- By solving this challenge, you practice solving algorithmic problems similar to those given at technical interviews.\n",
    "    \n",
    "- The satisfaction and self confidence that you get when passing the grader is priceless =)\n",
    "    \n",
    "- Even if you fail to pass the grader yourself, the time will not be lost as you will better understand the\n",
    "solution from the book and better appreciate the beauty of the underlying ideas."
   ]
  },
  {
   "cell_type": "code",
   "execution_count": 113,
   "metadata": {
    "ExecuteTime": {
     "end_time": "2020-05-31T09:09:31.192732Z",
     "start_time": "2020-05-31T09:09:31.119893Z"
    }
   },
   "outputs": [
    {
     "data": {
      "text/plain": [
       "[1, 2]"
      ]
     },
     "execution_count": 113,
     "metadata": {},
     "output_type": "execute_result"
    }
   ],
   "source": [
    "sorted([1,2])"
   ]
  },
  {
   "cell_type": "markdown",
   "metadata": {},
   "source": [
    "# 6. Closest Points\n",
    "\n",
    "**Problem Introduction**\n",
    "\n",
    "In this problem, your goal is to find the closest pair of points among the given 𝑛 points. This is a basic primitive in computational geometry having applications in, for example, graphics, computer vision, traffic-control systems.\n",
    "Problem Description\n",
    "\n",
    "**Task.** Given 𝑛 points on a plane, find the smallest distance between a pair of two (different) points. Recall\n",
    "√︀\n",
    "that the distance between points (𝑥1, 𝑦1) and (𝑥2, 𝑦2) is equal to\n",
    "\n",
    "**Input Format.** The first line contains the number 𝑛 of points. Each of the following 𝑛 lines defines a point\n",
    "(𝑥𝑖, 𝑦𝑖).\n",
    "\n",
    "**Constraints.** 2 ≤ 𝑛 ≤ 105 ; −109 ≤ 𝑥𝑖 , 𝑦𝑖 ≤ 109 are integers.\n",
    "\n",
    "**Output Format.** Output the minimum distance. The absolute value of the difference between the answer\n",
    "  −3\n",
    "with at least four digits after the decimal point (otherwise your answer, while being computed correctly,\n",
    "can turn out to be wrong because of rounding issues).\n"
   ]
  },
  {
   "cell_type": "code",
   "execution_count": null,
   "metadata": {},
   "outputs": [],
   "source": []
  }
 ],
 "metadata": {
  "kernelspec": {
   "display_name": "Python 3",
   "language": "python",
   "name": "python3"
  },
  "language_info": {
   "codemirror_mode": {
    "name": "ipython",
    "version": 3
   },
   "file_extension": ".py",
   "mimetype": "text/x-python",
   "name": "python",
   "nbconvert_exporter": "python",
   "pygments_lexer": "ipython3",
   "version": "3.7.3"
  },
  "toc": {
   "base_numbering": 1,
   "nav_menu": {},
   "number_sections": false,
   "sideBar": true,
   "skip_h1_title": false,
   "title_cell": "Table of Contents",
   "title_sidebar": "Contents",
   "toc_cell": false,
   "toc_position": {},
   "toc_section_display": true,
   "toc_window_display": true
  },
  "varInspector": {
   "cols": {
    "lenName": 16,
    "lenType": 16,
    "lenVar": 40
   },
   "kernels_config": {
    "python": {
     "delete_cmd_postfix": "",
     "delete_cmd_prefix": "del ",
     "library": "var_list.py",
     "varRefreshCmd": "print(var_dic_list())"
    },
    "r": {
     "delete_cmd_postfix": ") ",
     "delete_cmd_prefix": "rm(",
     "library": "var_list.r",
     "varRefreshCmd": "cat(var_dic_list()) "
    }
   },
   "types_to_exclude": [
    "module",
    "function",
    "builtin_function_or_method",
    "instance",
    "_Feature"
   ],
   "window_display": false
  }
 },
 "nbformat": 4,
 "nbformat_minor": 4
}
